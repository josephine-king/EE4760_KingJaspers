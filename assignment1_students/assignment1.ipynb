{
 "cells": [
  {
   "cell_type": "markdown",
   "id": "7aead223-1efa-44dd-9725-bbe3c8e847c5",
   "metadata": {
    "deletable": false,
    "editable": false,
    "nbgrader": {
     "cell_type": "markdown",
     "checksum": "6a06189bfced4285098b9b9a19c943a6",
     "grade": false,
     "grade_id": "Header",
     "locked": true,
     "schema_version": 3,
     "solution": false,
     "task": false
    },
    "slideshow": {
     "slide_type": ""
    },
    "tags": []
   },
   "source": [
    "# Assignment 1 - Particle filter\n",
    "\n",
    "- **Topic:** Designing a particle filter to estimate the position using magnetic field information\n",
    "- **Assessment:** The assignment will go through a pass/fail check.\n",
    "\n",
    "\n",
    "- **Deadline:**  28-02-2025, 17:00\n",
    "- **Submitting: SUBMIT ONLY `assignment1_groupNumber.ipynb` TO BRIGHTSPACE**. \n",
    "where groupNumber is your groupnumber\n",
    "\n",
    "\n",
    "## Instructions\n",
    "**Installation:** The implementation is tested with python 3.9.12 and packages including\n",
    "-   numpy version: 1.26.4\n",
    "-   scipy version: 1.13.0\n",
    "-   matplotlib version: 3.5.1\n",
    "\n",
    "\n",
    "Other (not too old or new) versions will probably also work.\n",
    "\n",
    "You may not use other packages for algorithm-related calculations.\n",
    "You only need to complete (and submit) this file.\n",
    "Please do not change the additional files `GP.py`, `helper.py` and `linAlg.py` and the dictionary `modelParameters` as this might result in breaking the assignment.\n",
    "\n",
    "\n",
    "\n",
    "## AI Related Policy\n",
    "We strongly discourage you to use AI tools for implementation assistance. It is your understanding of the problem that is tested in the final exam.\n",
    "\n",
    "\n",
    "## Information\n",
    "Please fill in your group number, names and student numbers in the cell below.\n",
    "\n"
   ]
  },
  {
   "cell_type": "code",
   "execution_count": null,
   "id": "7eabfcce-b53a-44e0-a381-ce1232d4a07f",
   "metadata": {},
   "outputs": [],
   "source": [
    "''' YOUR ANSWER HERE '''\n",
    "groupNumber = 1\n",
    "\n",
    "STUDENT_1_NAME = \"\"\n",
    "STUDENT_1_STUDENT_NUMBER = \"\"\n",
    "\n",
    "STUDENT_2_NAME = \"\"\n",
    "STUDENT_2_STUDENT_NUMBER = \"\"\n",
    "\n",
    "# raise NotImplementedError()"
   ]
  },
  {
   "cell_type": "markdown",
   "id": "aae1e342",
   "metadata": {
    "deletable": false,
    "editable": false,
    "nbgrader": {
     "cell_type": "markdown",
     "checksum": "54f0c8acb92a044d6779802a3044c7b0",
     "grade": false,
     "grade_id": "Q1",
     "locked": true,
     "schema_version": 3,
     "solution": false,
     "task": false
    }
   },
   "source": [
    "## Objectives\n",
    "\n",
    "#### Goal\n",
    "\n",
    "The goal of this assignment is to estimate the position $ \\mathbf{p}_t $ of an agent. The agent moves in an indoor environment and gets information about its approximate change in position $ \\Delta \\mathbf{p}_t $ at every time-step. To model this, you may assume a linear dynamic model of the form:\n",
    "$$\\mathbf{p}_{t + 1} = \\mathbf{p}_t + \\Delta \\mathbf{p}_{t+1} + \\mathbf{w}_{t+1}$$\n",
    "\n",
    "Where:\n",
    "\n",
    "- $\\mathbf{p}_t$ is a 3-dimensional position vector of the agent at time $t$. \n",
    "\n",
    "- $\\Delta \\mathbf{p}_t$ is the change in positon.\n",
    "\n",
    "- $\\mathbf{w}_t \\sim \\mathcal{N}(0_{3 \\times 1}, \\mathbf{Q})$ is Gaussian white noise.\n",
    "\n",
    "- $ \\mathbf{Q} \\in \\mathbb{R}^{3 \\times 3} $ is the covariance of the process noise.\n",
    "\n",
    "Since the information of the change in position $ \\Delta \\mathbf{p}_t$ contains errors, the position estimates from the dynamic model will drift. This means that over time, the agent will lose track of where it actually is. To remedy this, the agent is carrying a magnetometer, and has a map of the magnetic field. The magnetometer samples a measurement of the magnetic field $\\mathbf{y}_t$ at every position $\\mathbf{p}_t$. The map of the magnetic field is modeled by a non-linear function: a reduced rank Gaussian process (you do not need to understand, model or change the GP model, only to call the function evaluation). This results in the non-linear measurement model:\n",
    "$$ \\mathbf{y}_t = f(\\mathbf{p}_t) + \\mathbf{v}_t $$\n",
    "\n",
    "Where:\n",
    "\n",
    "- $\\mathbf{y}_t$ is a 3-dimensional measurement vector of the magnetic field at time-step $t$.\n",
    "\n",
    "- $f(\\cdot)$ is the reduced rank Gaussian process function.\n",
    "\n",
    "- $\\mathbf{v}_t \\sim \\mathcal{N}(0_{3 \\times 1}, \\mathbf{R})$ is Gaussian white noise.\n",
    "\n",
    "- $ \\mathbf{R} \\in \\mathbb{R}^{3 \\times 3} $ is the covariance of the measurement noise.\n",
    "\n",
    "\n",
    "#### First load in the data\n",
    "To start, first load in the data below\n",
    "All variables you will use are numpy arrays, where\n",
    "- `magnetometerMeasurements` $\\in \\mathbb{R}^{3 \\times N}$ is a numpy array containing the magnetometer measurements\n",
    "- `magnetometerInitialPosition` $\\in \\mathbb{R}^{3 \\times 1}$ is a numpy array containing the initial position of the magnetometer\n",
    "- `deltaMagnetometerPositions` $\\in \\mathbb{R}^{3 \\times N}$ is a numpy array containing the change in position of the magnetometer\n",
    "\n",
    "#### Warning\n",
    "- Additionally you are provided with a dictionary modelParameters which is used in creating magnetic field maps. DO NOT CHANGE dictionary as this might break the assignment. To create the particle filter you DO NOT need this dictionary."
   ]
  },
  {
   "cell_type": "code",
   "execution_count": null,
   "id": "95ac3921",
   "metadata": {
    "deletable": false,
    "nbgrader": {
     "cell_type": "code",
     "checksum": "1eebbcced18b90089a09a3df84739fce",
     "grade": false,
     "grade_id": "Q1-a-answer",
     "locked": false,
     "schema_version": 3,
     "solution": true,
     "task": false
    }
   },
   "outputs": [],
   "source": [
    "''' DO NOT CHANGE THE CODE BELOW '''\n",
    "import numpy as np\n",
    "import matplotlib.pyplot as plt\n",
    "\n",
    "import GP as GP\n",
    "import linAlg as linAlg\n",
    "import helper as helper\n",
    "np.random.seed(groupNumber)\n",
    "\n",
    "''' load in the data'''\n",
    "(magnetometerMeasurements, \n",
    " magnetometerInitialPosition, \n",
    " deltaMagnetometerPositions,\n",
    " modelParameters) = helper.initializeParticleFilterAssignment(groupNumber)\n"
   ]
  },
  {
   "cell_type": "markdown",
   "id": "87fa2e3a",
   "metadata": {},
   "source": [
    "Below, a function is given to plot the map of the magnetic field and the ground truth position of the path taken by the agent. The agent does not know this path, it only has access to its initial position, the change in position at every time-step and the magnetometer measurements. \n",
    "\n",
    "Your first task it to use the agent's dynamic model to try and reconstruct the ground truth path. This is also known as dead reckoning and should be done using data stored in the variables `magnetometerInitialPosition` and `deltaMagnetometerPositions`. Save the agent's positions according to the dynamic model in the variable `deadReckoning` $\\in \\mathbb{R}^{3 \\times N}$. Additionally, compare the magnetometer measurements with the map of the magnetic field. To achieve this, store the norm of the magnetic field at every time-step in the variable `magneticFieldNorm` $\\in \\mathbb{R}^{N}$.\n",
    "\n",
    "This function should output three subfigures. Every subfigure includes the magnetic field map in the background. On the left the ground truth positions are plotted together with the dead reckoning positions. In the middle the magnetic field measurements are plotted with  the ground truth positions on top of the magnetic field map. On the right, the magnetic field measurements are plotted with  the ground truth positions over the magnetic field map."
   ]
  },
  {
   "cell_type": "code",
   "execution_count": null,
   "id": "d424c108",
   "metadata": {},
   "outputs": [],
   "source": [
    "deadReckoning = \"\"\n",
    "magneticFieldNorm = \"\"\n",
    "\n",
    "helper.makeInitialPositionPlots(deadReckoning, magneticFieldNorm, modelParameters)\n"
   ]
  },
  {
   "cell_type": "markdown",
   "id": "e6a96a98",
   "metadata": {},
   "source": [
    "### Discuss\n",
    "\n",
    "Comment below on the three plots. \n",
    "- \tDoes the dynamic model provide accurate enough information about the agent’s position? What will happen to the position of the agent if it moves for longer periods of time?\n",
    "- Based on the magnetic field map shown in the background, explain why or why not the magnetic field is a good source of information for position estimation. \n",
    "- Explain why the measurements do or do not agree with the magnetic field map (for the middle and the right plots)."
   ]
  },
  {
   "cell_type": "markdown",
   "id": "c544fa65",
   "metadata": {},
   "source": [
    "\n",
    "### Particle Filter Implementation\n",
    "\n",
    "One way to reduce the positional drift observed in the figure above, is to use magnetometer measurements. To this end, you will design a particle filter. Your task is to fill in the following three functions.\n",
    "\n",
    "#### Task\n",
    "Fill in the `dynamicUpdate()` function according to the dynamic model given above. \n",
    "\n",
    "#### Note:\n",
    "You do not have to change the inputs and outputs to the given functions.\n"
   ]
  },
  {
   "cell_type": "code",
   "execution_count": null,
   "id": "1ed47f5c",
   "metadata": {},
   "outputs": [],
   "source": [
    "\n",
    "def dynamicUpdate(particlePositions, \n",
    "                  deltaPosition,\n",
    "                  processCovariance,\n",
    "                  Nparticles):\n",
    "    \n",
    "    ''' Dynamic update '''\n",
    "\n",
    "    return particlePositions\n"
   ]
  },
  {
   "cell_type": "markdown",
   "id": "584230b4",
   "metadata": {},
   "source": [
    "#### Discuss\n",
    "\n",
    "Comment on the role of the function of the dynamicUpdate in the particle filter"
   ]
  },
  {
   "cell_type": "markdown",
   "id": "76e6738f",
   "metadata": {},
   "source": [
    "#### Task\n",
    "\n",
    "Fill in the `measurementUpdate()` according to the measurement model given above. \n",
    "\n",
    "To implement the measurement model, you will need to make predictions of the magnetic field. You DO NOT need to create this function yourself. To make predictions, use the function `GP.makeMagneticFieldPrediction(positions, modelParameters)` function make sure the input `positions` $\\in \\mathbb{R}^{3 \\times N} $. The output should be a matrix $\\in \\mathbb{R}^{3 \\times N}$ magnetic field predictions for every input location."
   ]
  },
  {
   "cell_type": "code",
   "execution_count": null,
   "id": "30051afb",
   "metadata": {},
   "outputs": [],
   "source": [
    "def measurementUpdate(particlePositions, \n",
    "                      particleWeights,\n",
    "                      magnetometerMeasurement,\n",
    "                      measurementCovariance,\n",
    "                      Nparticles,\n",
    "                      modelParameters):\n",
    "    \n",
    "    ''' Measurement update '''\n",
    "    predictionsMagneticFieldParticles = GP.makeMagneticFieldPrediction(particlePositions, modelParameters)\n",
    "\n",
    "    return particlePositions, particleWeights\n"
   ]
  },
  {
   "cell_type": "markdown",
   "id": "534fd42b",
   "metadata": {},
   "source": [
    "#### Discuss\n",
    "Comment on the role of the function of the measurementUpdate in the particle filter"
   ]
  },
  {
   "cell_type": "markdown",
   "id": "4b7de041",
   "metadata": {},
   "source": [
    "#### Task\n",
    "\n",
    "Fill in the remainder of the `particleFilter()` function. \n"
   ]
  },
  {
   "cell_type": "code",
   "execution_count": null,
   "id": "8b552ddf",
   "metadata": {},
   "outputs": [],
   "source": [
    "def particleFilter(particlePositions, \n",
    "                   deltaPosition, \n",
    "                   magnetometerMeasurement, \n",
    "                   processCovariance, \n",
    "                   measurementCovariance, \n",
    "                   Nparticles,\n",
    "                   modelParameters):\n",
    "    ''' Estimates position based on a known map'''\n",
    "\n",
    "    particleWeights = \"\"\n",
    "\n",
    "    if modelParameters['NtimeStepPF'] > 0:\n",
    "        ''' Dynamic update '''\n",
    "        particlePositions = dynamicUpdate(particlePositions, \n",
    "                                          deltaPosition, \n",
    "                                          processCovariance, \n",
    "                                          Nparticles)  \n",
    "\n",
    "\n",
    "    ''' Measurement update '''\n",
    "    (particlePositions, \n",
    "        particleWeights) = measurementUpdate(particlePositions, \n",
    "                                             particleWeights,\n",
    "                                             magnetometerMeasurement, \n",
    "                                             measurementCovariance, \n",
    "                                             Nparticles,\n",
    "                                             modelParameters)\n",
    "\n",
    "    ''' Resampling '''    \n",
    "    if np.sum(particleWeights) > 1e-12:\n",
    "        particleWeights /= np.sum(particleWeights)\n",
    "        indices = helper.systematicResample(particleWeights)\n",
    "        particlePositions = particlePositions[:, indices]\n",
    "    else:\n",
    "        print('Degenerate particles: All the weights are close to zero !!!')\n",
    "        particleWeights /= np.sum(particleWeights)\n",
    "        indices = helper.systematicResample(particleWeights)\n",
    "\n",
    "    meanPosition = \"\"\n",
    "    maxPosition = \"\"\n",
    "\n",
    "    return particlePositions, meanPosition, maxPosition\n"
   ]
  },
  {
   "cell_type": "markdown",
   "id": "11b7e982",
   "metadata": {},
   "source": [
    "#### Discuss\n",
    "\n",
    "Comment on the role of the function of the systematicResample in the particle filter"
   ]
  },
  {
   "cell_type": "markdown",
   "id": "f6b4b91d",
   "metadata": {},
   "source": [
    "#### Task 4\n",
    "\n",
    "Choose a suitable amount of particles, an initial position covariance, a suitable motion covariance and a suitable measurement covariance.\n",
    "\n",
    "You could start with the following parameters\n",
    "- `initalPositionCovariance` = np.eye(3)*0\n",
    "- `Nparticles` = 100\n",
    "- `processCovariance` = np.eye(3)*0.001**2\n",
    "- `measurementCovariance` = np.eye(3)*1.5**2\n",
    "\n",
    "To get better results, you might have to tune these. "
   ]
  },
  {
   "cell_type": "code",
   "execution_count": null,
   "id": "989a9af3",
   "metadata": {},
   "outputs": [],
   "source": [
    "''' Number of particles used in the particle filter '''\n",
    "Nparticles = \"\"\n",
    "\n",
    "\n",
    "''' Inital position covariance of the position '''\n",
    "initalPositionCovariance = \"\"\n",
    "\n",
    "\n",
    "''' process covariance and measurement covariance '''\n",
    "processCovariance = \"\"\n",
    "measurementCovariance = \"\"\n",
    "\n",
    "\n",
    "''' Initialize particle positions '''\n",
    "particlePositions = \"\"\n",
    "\n",
    "\n",
    "''' Create matrices to store mean and best particle position at every time-step'''\n",
    "meanParticlePosition = \"\"\n",
    "bestParticlePosition = \"\"\n",
    "\n",
    "\n",
    "''' Initialize and run  the Particle Filter '''\n",
    "modelParameters['NtimeStepPF'] = 0\n",
    "for timendx in range(modelParameters['NtimeSteps']-1):\n",
    "    deltaPosPF = \"\"\n",
    "    ymeasPF = \"\"\n",
    "    (particlePositions, \n",
    "     meanParticlePosition[:, timendx+1], \n",
    "     bestParticlePosition[:, timendx+1]) = particleFilter(particlePositions, \n",
    "                                                          deltaPosPF, \n",
    "                                                          ymeasPF, \n",
    "                                                          processCovariance, \n",
    "                                                          measurementCovariance, \n",
    "                                                          Nparticles,\n",
    "                                                          modelParameters)\n",
    "\n",
    "    modelParameters['NtimeStepPF'] += 1\n"
   ]
  },
  {
   "cell_type": "markdown",
   "id": "f80854dc",
   "metadata": {},
   "source": [
    "### Visualize the output"
   ]
  },
  {
   "cell_type": "code",
   "execution_count": null,
   "id": "4c89fd42",
   "metadata": {},
   "outputs": [],
   "source": [
    "helper.makeParticleFilterPlots(deadReckoning, meanParticlePosition, bestParticlePosition, modelParameters)"
   ]
  },
  {
   "cell_type": "markdown",
   "id": "e72d8d1f",
   "metadata": {},
   "source": [
    "#### Discuss\n",
    "\n",
    "Elaborate on the two plots.\n",
    "- Does the particle filter improve the position estimates?\n",
    "- Are the weighted average particle trajectory and the best particle trajectory the same or different? Why is that the case?\n"
   ]
  },
  {
   "cell_type": "markdown",
   "id": "e5c07a36",
   "metadata": {},
   "source": [
    "#### Task\n",
    "\n",
    "Play around with different parameters. Comment on what happens if we choose lower or higher values for\n",
    "- `initalPositionCovariance`?\n",
    "- `Nparticles`?\n",
    "- `processCovariance`?\n",
    "- `measurementCovariance`?\n",
    "\n",
    "And reason about why this is the case"
   ]
  },
  {
   "cell_type": "code",
   "execution_count": null,
   "id": "9cd758c0",
   "metadata": {},
   "outputs": [],
   "source": [
    "''' Number of particles used in the particle filter '''\n",
    "Nparticles = \"\"\n",
    "\n",
    "\n",
    "''' Inital position covariance of the position '''\n",
    "initalPositionCovariance = \"\"\n",
    "\n",
    "\n",
    "''' process covariance and measurement covariance '''\n",
    "processCovariance = \"\"\n",
    "measurementCovariance = \"\"\n",
    "\n",
    "\n",
    "''' Initialize particle positions '''\n",
    "particlePositions = \"\"\n",
    "\n",
    "\n",
    "''' Create matrices to store mean and best particle position at every time-step'''\n",
    "meanParticlePosition = \"\"\n",
    "bestParticlePosition = \"\"\n",
    "\n",
    "\n",
    "''' Initialize and run the Particle Filter '''\n",
    "modelParameters['NtimeStepPF'] = 0\n",
    "for timendx in range(modelParameters['NtimeSteps']-1):\n",
    "    deltaPosPF = \"\"\n",
    "    ymeasPF = \"\"\n",
    "    (particlePositions, \n",
    "     meanParticlePosition[:, timendx+1], \n",
    "     bestParticlePosition[:, timendx+1]) = particleFilter(particlePositions, \n",
    "                                                          deltaPosPF, \n",
    "                                                          ymeasPF, \n",
    "                                                          processCovariance, \n",
    "                                                          measurementCovariance, \n",
    "                                                          Nparticles,\n",
    "                                                          modelParameters)\n",
    "\n",
    "    modelParameters['NtimeStepPF'] += 1\n"
   ]
  },
  {
   "cell_type": "code",
   "execution_count": null,
   "id": "b9601884",
   "metadata": {},
   "outputs": [],
   "source": [
    "helper.makeParticleFilterPlots(deadReckoning, meanParticlePosition, bestParticlePosition, modelParameters)"
   ]
  },
  {
   "cell_type": "markdown",
   "id": "6000d548",
   "metadata": {},
   "source": [
    "#### Discuss\n",
    "\n",
    "Comment on the reason for choosing a particle filter for this estimation problem."
   ]
  }
 ],
 "metadata": {
  "kernelspec": {
   "display_name": "base",
   "language": "python",
   "name": "python3"
  },
  "language_info": {
   "codemirror_mode": {
    "name": "ipython",
    "version": 3
   },
   "file_extension": ".py",
   "mimetype": "text/x-python",
   "name": "python",
   "nbconvert_exporter": "python",
   "pygments_lexer": "ipython3",
   "version": "3.9.12"
  }
 },
 "nbformat": 4,
 "nbformat_minor": 5
}
